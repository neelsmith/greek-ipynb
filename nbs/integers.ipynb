{
 "cells": [
  {
   "cell_type": "code",
   "execution_count": 1,
   "metadata": {},
   "outputs": [
    {
     "data": {
      "text/plain": [
       "\u001b[36mmyBT\u001b[39m: \u001b[32mcoursierapi\u001b[39m.\u001b[32mMavenRepository\u001b[39m = MavenRepository(https://dl.bintray.com/neelsmith/maven)"
      ]
     },
     "execution_count": 1,
     "metadata": {},
     "output_type": "execute_result"
    }
   ],
   "source": [
    "// 1. Add maven repository where we can find our libraries\n",
    "val myBT = coursierapi.MavenRepository.of(\"https://dl.bintray.com/neelsmith/maven\")\n",
    "interp.repositories() ++= Seq(myBT)"
   ]
  },
  {
   "cell_type": "code",
   "execution_count": 2,
   "metadata": {},
   "outputs": [
    {
     "name": "stderr",
     "output_type": "stream",
     "text": [
      "Downloading https://repo1.maven.org/maven2/edu/holycross/shot/greek_2.12/2.4.0/greek_2.12-2.4.0.pom\n",
      "Downloaded https://repo1.maven.org/maven2/edu/holycross/shot/greek_2.12/2.4.0/greek_2.12-2.4.0.pom\n",
      "Downloading https://repo1.maven.org/maven2/edu/holycross/shot/greek_2.12/2.4.0/greek_2.12-2.4.0.pom.sha1\n",
      "Downloaded https://repo1.maven.org/maven2/edu/holycross/shot/greek_2.12/2.4.0/greek_2.12-2.4.0.pom.sha1\n",
      "Downloading https://dl.bintray.com/neelsmith/maven/edu/holycross/shot/greek_2.12/2.4.0/greek_2.12-2.4.0.pom\n",
      "Downloaded https://dl.bintray.com/neelsmith/maven/edu/holycross/shot/greek_2.12/2.4.0/greek_2.12-2.4.0.pom\n",
      "Downloading https://repo1.maven.org/maven2/org/scala-lang/scala-library/2.12.4/scala-library-2.12.4.pom\n",
      "Downloading https://repo1.maven.org/maven2/edu/holycross/shot/midvalidator_2.12/6.0.2/midvalidator_2.12-6.0.2.pom\n",
      "Downloaded https://repo1.maven.org/maven2/org/scala-lang/scala-library/2.12.4/scala-library-2.12.4.pom\n",
      "Downloaded https://repo1.maven.org/maven2/edu/holycross/shot/midvalidator_2.12/6.0.2/midvalidator_2.12-6.0.2.pom\n",
      "Downloading https://repo1.maven.org/maven2/edu/holycross/shot/midvalidator_2.12/6.0.2/midvalidator_2.12-6.0.2.pom.sha1\n",
      "Downloaded https://repo1.maven.org/maven2/edu/holycross/shot/midvalidator_2.12/6.0.2/midvalidator_2.12-6.0.2.pom.sha1\n",
      "Downloading https://dl.bintray.com/neelsmith/maven/edu/holycross/shot/midvalidator_2.12/6.0.2/midvalidator_2.12-6.0.2.pom\n",
      "Downloaded https://dl.bintray.com/neelsmith/maven/edu/holycross/shot/midvalidator_2.12/6.0.2/midvalidator_2.12-6.0.2.pom\n",
      "Downloading https://repo1.maven.org/maven2/edu/holycross/shot/dse_2.12/4.2.2/dse_2.12-4.2.2.pom\n",
      "Downloading https://repo1.maven.org/maven2/edu/holycross/shot/cite/xcite_2.12/4.0.2/xcite_2.12-4.0.2.pom\n",
      "Downloading https://repo1.maven.org/maven2/com/github/pathikrit/better-files_2.12/3.5.0/better-files_2.12-3.5.0.pom\n",
      "Downloading https://repo1.maven.org/maven2/edu/holycross/shot/scm_2.12/6.2.1/scm_2.12-6.2.1.pom\n",
      "Downloading https://repo1.maven.org/maven2/edu/holycross/shot/citerelations_2.12/2.4.1/citerelations_2.12-2.4.1.pom\n",
      "Downloading https://repo1.maven.org/maven2/edu/holycross/shot/citeobj_2.12/7.3.1/citeobj_2.12-7.3.1.pom\n",
      "Downloaded https://repo1.maven.org/maven2/com/github/pathikrit/better-files_2.12/3.5.0/better-files_2.12-3.5.0.pom\n",
      "Downloading https://repo1.maven.org/maven2/edu/holycross/shot/ohco2_2.12/10.12.5/ohco2_2.12-10.12.5.pom\n",
      "Downloaded https://repo1.maven.org/maven2/edu/holycross/shot/dse_2.12/4.2.2/dse_2.12-4.2.2.pom\n",
      "Downloaded https://repo1.maven.org/maven2/edu/holycross/shot/ohco2_2.12/10.12.5/ohco2_2.12-10.12.5.pom\n",
      "Downloading https://repo1.maven.org/maven2/edu/holycross/shot/dse_2.12/4.2.2/dse_2.12-4.2.2.pom.sha1\n",
      "Downloading https://repo1.maven.org/maven2/edu/holycross/shot/cex_2.12/6.3.3/cex_2.12-6.3.3.pom\n",
      "Downloaded https://repo1.maven.org/maven2/edu/holycross/shot/citerelations_2.12/2.4.1/citerelations_2.12-2.4.1.pom\n",
      "Downloaded https://repo1.maven.org/maven2/edu/holycross/shot/citeobj_2.12/7.3.1/citeobj_2.12-7.3.1.pom\n",
      "Downloading https://repo1.maven.org/maven2/edu/holycross/shot/ohco2_2.12/10.12.5/ohco2_2.12-10.12.5.pom.sha1\n",
      "Downloading https://repo1.maven.org/maven2/edu/holycross/shot/citerelations_2.12/2.4.1/citerelations_2.12-2.4.1.pom.sha1\n",
      "Downloaded https://repo1.maven.org/maven2/edu/holycross/shot/scm_2.12/6.2.1/scm_2.12-6.2.1.pom\n",
      "Downloading https://repo1.maven.org/maven2/edu/holycross/shot/citeobj_2.12/7.3.1/citeobj_2.12-7.3.1.pom.sha1\n",
      "Downloaded https://repo1.maven.org/maven2/edu/holycross/shot/ohco2_2.12/10.12.5/ohco2_2.12-10.12.5.pom.sha1\n",
      "Downloading https://repo1.maven.org/maven2/edu/holycross/shot/scm_2.12/6.2.1/scm_2.12-6.2.1.pom.sha1\n",
      "Downloaded https://repo1.maven.org/maven2/edu/holycross/shot/cite/xcite_2.12/4.0.2/xcite_2.12-4.0.2.pom\n",
      "Downloading https://repo1.maven.org/maven2/edu/holycross/shot/cite/xcite_2.12/4.0.2/xcite_2.12-4.0.2.pom.sha1\n",
      "Downloaded https://repo1.maven.org/maven2/edu/holycross/shot/citerelations_2.12/2.4.1/citerelations_2.12-2.4.1.pom.sha1\n",
      "Downloading https://dl.bintray.com/neelsmith/maven/edu/holycross/shot/ohco2_2.12/10.12.5/ohco2_2.12-10.12.5.pom\n",
      "Downloaded https://repo1.maven.org/maven2/edu/holycross/shot/dse_2.12/4.2.2/dse_2.12-4.2.2.pom.sha1\n",
      "Downloaded https://repo1.maven.org/maven2/edu/holycross/shot/citeobj_2.12/7.3.1/citeobj_2.12-7.3.1.pom.sha1\n",
      "Downloading https://dl.bintray.com/neelsmith/maven/edu/holycross/shot/citerelations_2.12/2.4.1/citerelations_2.12-2.4.1.pom\n",
      "Downloaded https://repo1.maven.org/maven2/edu/holycross/shot/cex_2.12/6.3.3/cex_2.12-6.3.3.pom\n",
      "Downloaded https://repo1.maven.org/maven2/edu/holycross/shot/scm_2.12/6.2.1/scm_2.12-6.2.1.pom.sha1\n",
      "Downloading https://dl.bintray.com/neelsmith/maven/edu/holycross/shot/citeobj_2.12/7.3.1/citeobj_2.12-7.3.1.pom\n",
      "Downloading https://dl.bintray.com/neelsmith/maven/edu/holycross/shot/scm_2.12/6.2.1/scm_2.12-6.2.1.pom\n",
      "Downloading https://dl.bintray.com/neelsmith/maven/edu/holycross/shot/dse_2.12/4.2.2/dse_2.12-4.2.2.pom\n",
      "Downloaded https://repo1.maven.org/maven2/edu/holycross/shot/cite/xcite_2.12/4.0.2/xcite_2.12-4.0.2.pom.sha1\n",
      "Downloading https://repo1.maven.org/maven2/edu/holycross/shot/cex_2.12/6.3.3/cex_2.12-6.3.3.pom.sha1\n",
      "Downloaded https://repo1.maven.org/maven2/edu/holycross/shot/cex_2.12/6.3.3/cex_2.12-6.3.3.pom.sha1\n",
      "Downloading https://dl.bintray.com/neelsmith/maven/edu/holycross/shot/cite/xcite_2.12/4.0.2/xcite_2.12-4.0.2.pom\n",
      "Downloaded https://dl.bintray.com/neelsmith/maven/edu/holycross/shot/ohco2_2.12/10.12.5/ohco2_2.12-10.12.5.pom\n",
      "Downloading https://dl.bintray.com/neelsmith/maven/edu/holycross/shot/cex_2.12/6.3.3/cex_2.12-6.3.3.pom\n",
      "Downloaded https://dl.bintray.com/neelsmith/maven/edu/holycross/shot/citeobj_2.12/7.3.1/citeobj_2.12-7.3.1.pom\n",
      "Downloaded https://dl.bintray.com/neelsmith/maven/edu/holycross/shot/cex_2.12/6.3.3/cex_2.12-6.3.3.pom\n",
      "Downloaded https://dl.bintray.com/neelsmith/maven/edu/holycross/shot/scm_2.12/6.2.1/scm_2.12-6.2.1.pom\n",
      "Downloaded https://dl.bintray.com/neelsmith/maven/edu/holycross/shot/citerelations_2.12/2.4.1/citerelations_2.12-2.4.1.pom\n",
      "Downloaded https://dl.bintray.com/neelsmith/maven/edu/holycross/shot/dse_2.12/4.2.2/dse_2.12-4.2.2.pom\n",
      "Downloaded https://dl.bintray.com/neelsmith/maven/edu/holycross/shot/cite/xcite_2.12/4.0.2/xcite_2.12-4.0.2.pom\n",
      "Downloading https://repo1.maven.org/maven2/org/scala-lang/scala-library/2.12.6/scala-library-2.12.6.pom\n",
      "Downloading https://repo1.maven.org/maven2/edu/holycross/shot/seqcomp_2.12/1.0.0/seqcomp_2.12-1.0.0.pom\n",
      "Downloading https://repo1.maven.org/maven2/org/scala-lang/modules/scala-xml_2.12/1.0.6/scala-xml_2.12-1.0.6.pom\n",
      "Downloaded https://repo1.maven.org/maven2/org/scala-lang/scala-library/2.12.6/scala-library-2.12.6.pom\n",
      "Downloaded https://repo1.maven.org/maven2/org/scala-lang/modules/scala-xml_2.12/1.0.6/scala-xml_2.12-1.0.6.pom\n",
      "Downloaded https://repo1.maven.org/maven2/edu/holycross/shot/seqcomp_2.12/1.0.0/seqcomp_2.12-1.0.0.pom\n",
      "Downloading https://repo1.maven.org/maven2/edu/holycross/shot/seqcomp_2.12/1.0.0/seqcomp_2.12-1.0.0.pom.sha1\n",
      "Downloaded https://repo1.maven.org/maven2/edu/holycross/shot/seqcomp_2.12/1.0.0/seqcomp_2.12-1.0.0.pom.sha1\n",
      "Downloading https://dl.bintray.com/neelsmith/maven/edu/holycross/shot/seqcomp_2.12/1.0.0/seqcomp_2.12-1.0.0.pom\n",
      "Downloaded https://dl.bintray.com/neelsmith/maven/edu/holycross/shot/seqcomp_2.12/1.0.0/seqcomp_2.12-1.0.0.pom\n",
      "Downloading https://dl.bintray.com/neelsmith/maven/edu/holycross/shot/cite/xcite_2.12/4.0.2/xcite_2.12-4.0.2.jar\n",
      "Downloading https://dl.bintray.com/neelsmith/maven/edu/holycross/shot/citeobj_2.12/7.3.1/citeobj_2.12-7.3.1.jar\n",
      "Downloading https://dl.bintray.com/neelsmith/maven/edu/holycross/shot/seqcomp_2.12/1.0.0/seqcomp_2.12-1.0.0.jar\n",
      "Downloading https://dl.bintray.com/neelsmith/maven/edu/holycross/shot/cex_2.12/6.3.3/cex_2.12-6.3.3.jar\n",
      "Downloading https://dl.bintray.com/neelsmith/maven/edu/holycross/shot/citerelations_2.12/2.4.1/citerelations_2.12-2.4.1.jar\n",
      "Downloading https://dl.bintray.com/neelsmith/maven/edu/holycross/shot/ohco2_2.12/10.12.5/ohco2_2.12-10.12.5.jar\n",
      "Downloaded https://dl.bintray.com/neelsmith/maven/edu/holycross/shot/seqcomp_2.12/1.0.0/seqcomp_2.12-1.0.0.jar\n",
      "Downloading https://dl.bintray.com/neelsmith/maven/edu/holycross/shot/scm_2.12/6.2.1/scm_2.12-6.2.1.jar\n",
      "Downloaded https://dl.bintray.com/neelsmith/maven/edu/holycross/shot/cite/xcite_2.12/4.0.2/xcite_2.12-4.0.2.jar\n",
      "Downloading https://dl.bintray.com/neelsmith/maven/edu/holycross/shot/dse_2.12/4.2.2/dse_2.12-4.2.2.jar\n",
      "Downloaded https://dl.bintray.com/neelsmith/maven/edu/holycross/shot/cex_2.12/6.3.3/cex_2.12-6.3.3.jar\n",
      "Downloading https://dl.bintray.com/neelsmith/maven/edu/holycross/shot/greek_2.12/2.4.0/greek_2.12-2.4.0.jar\n",
      "Downloaded https://dl.bintray.com/neelsmith/maven/edu/holycross/shot/citeobj_2.12/7.3.1/citeobj_2.12-7.3.1.jar\n",
      "Downloading https://dl.bintray.com/neelsmith/maven/edu/holycross/shot/cite/xcite_2.12/4.0.2/xcite_2.12-4.0.2-sources.jar\n",
      "Downloaded https://dl.bintray.com/neelsmith/maven/edu/holycross/shot/dse_2.12/4.2.2/dse_2.12-4.2.2.jar\n",
      "Downloading https://repo1.maven.org/maven2/org/scala-lang/scala-library/2.12.6/scala-library-2.12.6-sources.jar\n",
      "Downloaded https://dl.bintray.com/neelsmith/maven/edu/holycross/shot/citerelations_2.12/2.4.1/citerelations_2.12-2.4.1.jar\n",
      "Downloading https://dl.bintray.com/neelsmith/maven/edu/holycross/shot/midvalidator_2.12/6.0.2/midvalidator_2.12-6.0.2.jar\n",
      "Downloaded https://dl.bintray.com/neelsmith/maven/edu/holycross/shot/scm_2.12/6.2.1/scm_2.12-6.2.1.jar\n",
      "Downloading https://repo1.maven.org/maven2/org/scala-lang/modules/scala-xml_2.12/1.0.6/scala-xml_2.12-1.0.6-sources.jar\n",
      "Downloaded https://dl.bintray.com/neelsmith/maven/edu/holycross/shot/greek_2.12/2.4.0/greek_2.12-2.4.0.jar\n",
      "Downloading https://dl.bintray.com/neelsmith/maven/edu/holycross/shot/cex_2.12/6.3.3/cex_2.12-6.3.3-sources.jar\n",
      "Downloaded https://dl.bintray.com/neelsmith/maven/edu/holycross/shot/ohco2_2.12/10.12.5/ohco2_2.12-10.12.5.jar\n",
      "Downloading https://dl.bintray.com/neelsmith/maven/edu/holycross/shot/seqcomp_2.12/1.0.0/seqcomp_2.12-1.0.0-sources.jar\n",
      "Downloaded https://repo1.maven.org/maven2/org/scala-lang/scala-library/2.12.6/scala-library-2.12.6-sources.jar\n",
      "Downloading https://dl.bintray.com/neelsmith/maven/edu/holycross/shot/citeobj_2.12/7.3.1/citeobj_2.12-7.3.1-sources.jar\n",
      "Downloaded https://dl.bintray.com/neelsmith/maven/edu/holycross/shot/cite/xcite_2.12/4.0.2/xcite_2.12-4.0.2-sources.jar\n",
      "Downloaded https://repo1.maven.org/maven2/org/scala-lang/modules/scala-xml_2.12/1.0.6/scala-xml_2.12-1.0.6-sources.jar\n",
      "Downloading https://dl.bintray.com/neelsmith/maven/edu/holycross/shot/citerelations_2.12/2.4.1/citerelations_2.12-2.4.1-sources.jar\n",
      "Downloading https://dl.bintray.com/neelsmith/maven/edu/holycross/shot/scm_2.12/6.2.1/scm_2.12-6.2.1-sources.jar\n",
      "Downloaded https://dl.bintray.com/neelsmith/maven/edu/holycross/shot/midvalidator_2.12/6.0.2/midvalidator_2.12-6.0.2.jar\n",
      "Downloading https://dl.bintray.com/neelsmith/maven/edu/holycross/shot/greek_2.12/2.4.0/greek_2.12-2.4.0-sources.jar\n",
      "Downloaded https://dl.bintray.com/neelsmith/maven/edu/holycross/shot/cex_2.12/6.3.3/cex_2.12-6.3.3-sources.jar\n",
      "Downloading https://dl.bintray.com/neelsmith/maven/edu/holycross/shot/ohco2_2.12/10.12.5/ohco2_2.12-10.12.5-sources.jar\n",
      "Downloaded https://dl.bintray.com/neelsmith/maven/edu/holycross/shot/citeobj_2.12/7.3.1/citeobj_2.12-7.3.1-sources.jar\n",
      "Downloading https://dl.bintray.com/neelsmith/maven/edu/holycross/shot/midvalidator_2.12/6.0.2/midvalidator_2.12-6.0.2-sources.jar\n",
      "Downloaded https://dl.bintray.com/neelsmith/maven/edu/holycross/shot/seqcomp_2.12/1.0.0/seqcomp_2.12-1.0.0-sources.jar\n",
      "Downloading https://repo1.maven.org/maven2/com/github/pathikrit/better-files_2.12/3.5.0/better-files_2.12-3.5.0-sources.jar\n",
      "Downloaded https://dl.bintray.com/neelsmith/maven/edu/holycross/shot/scm_2.12/6.2.1/scm_2.12-6.2.1-sources.jar\n",
      "Downloading https://dl.bintray.com/neelsmith/maven/edu/holycross/shot/dse_2.12/4.2.2/dse_2.12-4.2.2-sources.jar\n",
      "Downloaded https://dl.bintray.com/neelsmith/maven/edu/holycross/shot/citerelations_2.12/2.4.1/citerelations_2.12-2.4.1-sources.jar\n",
      "Downloading https://repo1.maven.org/maven2/org/scala-lang/modules/scala-xml_2.12/1.0.6/scala-xml_2.12-1.0.6.jar\n",
      "Downloaded https://dl.bintray.com/neelsmith/maven/edu/holycross/shot/greek_2.12/2.4.0/greek_2.12-2.4.0-sources.jar\n",
      "Downloading https://repo1.maven.org/maven2/org/scala-lang/scala-library/2.12.6/scala-library-2.12.6.jar\n",
      "Downloaded https://repo1.maven.org/maven2/org/scala-lang/modules/scala-xml_2.12/1.0.6/scala-xml_2.12-1.0.6.jar\n",
      "Downloaded https://repo1.maven.org/maven2/com/github/pathikrit/better-files_2.12/3.5.0/better-files_2.12-3.5.0-sources.jar\n",
      "Downloaded https://dl.bintray.com/neelsmith/maven/edu/holycross/shot/ohco2_2.12/10.12.5/ohco2_2.12-10.12.5-sources.jar\n",
      "Downloading https://repo1.maven.org/maven2/com/github/pathikrit/better-files_2.12/3.5.0/better-files_2.12-3.5.0.jar\n",
      "Downloaded https://dl.bintray.com/neelsmith/maven/edu/holycross/shot/dse_2.12/4.2.2/dse_2.12-4.2.2-sources.jar\n",
      "Downloaded https://dl.bintray.com/neelsmith/maven/edu/holycross/shot/midvalidator_2.12/6.0.2/midvalidator_2.12-6.0.2-sources.jar\n",
      "Downloaded https://repo1.maven.org/maven2/org/scala-lang/scala-library/2.12.6/scala-library-2.12.6.jar\n",
      "Downloaded https://repo1.maven.org/maven2/com/github/pathikrit/better-files_2.12/3.5.0/better-files_2.12-3.5.0.jar\n"
     ]
    },
    {
     "data": {
      "text/plain": [
       "\u001b[32mimport \u001b[39m\u001b[36m$ivy.$                                \n",
       "\u001b[39m"
      ]
     },
     "execution_count": 2,
     "metadata": {},
     "output_type": "execute_result"
    }
   ],
   "source": [
    "// 2. Make libraries available with `$ivy` imports:\n",
    "import $ivy.`edu.holycross.shot::greek:2.4.0`\n"
   ]
  }
 ],
 "metadata": {
  "kernelspec": {
   "display_name": "Scala (2.12)",
   "language": "scala",
   "name": "scala212"
  },
  "language_info": {
   "codemirror_mode": "text/x-scala",
   "file_extension": ".scala",
   "mimetype": "text/x-scala",
   "name": "scala",
   "nbconvert_exporter": "script",
   "version": "2.12.10"
  }
 },
 "nbformat": 4,
 "nbformat_minor": 4
}
