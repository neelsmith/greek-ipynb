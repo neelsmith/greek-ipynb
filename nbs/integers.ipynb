{
 "cells": [
  {
   "cell_type": "markdown",
   "metadata": {},
   "source": [
    "# Working with integer values in \"Milesian\" notation\n",
    "\n",
    "## What the `greek` library does and does not do\n",
    "\n",
    "The `greek` library does not tokenize Strings. Instead, it provides classes for working with Strings representing Greek text with particular contents of content.  The `MilesianNumeric` class works with strings representing numeric values recorded in the \"Milesian\" notational system.  This notebook introduces working with integer values using the `MilesianNumeric` class.  It uses version `2.5.1` of the `greek` library.\n",
    "\n",
    "## Prerequisite\n",
    "\n",
    "Use the following cells to configure your notebook so it can import the `greek` class."
   ]
  },
  {
   "cell_type": "code",
   "execution_count": null,
   "metadata": {},
   "outputs": [],
   "source": [
    "// 1. Add maven repository where we can find our libraries\n",
    "val myBT = coursierapi.MavenRepository.of(\"https://dl.bintray.com/neelsmith/maven\")\n",
    "interp.repositories() ++= Seq(myBT)"
   ]
  },
  {
   "cell_type": "code",
   "execution_count": null,
   "metadata": {},
   "outputs": [],
   "source": [
    "// 2. Make libraries available with `$ivy` imports:\n",
    "import $ivy.`edu.holycross.shot::greek:2.5.1`\n"
   ]
  },
  {
   "cell_type": "markdown",
   "metadata": {},
   "source": [
    "## The `MilesianNumeric` class\n",
    "\n",
    "You can instantiate a `MilseianNumeric` from a String value using either ASCII-centric or Unicode Greek conventions.  See further examples in this notebook, below."
   ]
  },
  {
   "cell_type": "code",
   "execution_count": null,
   "metadata": {},
   "outputs": [],
   "source": [
    "import edu.holycross.shot.greek._\n",
    "\n",
    "val oneAscii = MilesianNumeric(\"a\")\n",
    "val oneUcode = MilesianNumeric(\"α\")\n"
   ]
  },
  {
   "cell_type": "code",
   "execution_count": null,
   "metadata": {},
   "outputs": [],
   "source": [
    "// basic equivalences:\n",
    "oneAscii.toInt == oneUcode.toInt\n",
    "oneAscii.ascii == oneUcode.ascii\n",
    "oneAscii.ucode == oneUcode.ucode"
   ]
  },
  {
   "cell_type": "markdown",
   "metadata": {},
   "source": [
    "Numeric tick marks that may be used to identify numeric strings to your tokenizer (external to the `greek` library) are allowed.  Either the single quote mark `'` or the Unicode numeric tick make may  be used."
   ]
  },
  {
   "cell_type": "code",
   "execution_count": null,
   "metadata": {},
   "outputs": [],
   "source": [
    "val ucodeTick = \"\\u02b9\"\n",
    "\n",
    "val tickedOne = MilesianNumeric(\"a\" + ucodeTick)\n",
    "val singleQuotedOne = MilesianNumeric(\"a'\")\n",
    "\n",
    "tickedOne.toInt == singleQuotedOne.toInt\n",
    "tickedOne.ascii == singleQuotedOne.ascii\n",
    "tickedOne.ucode == singleQuotedOne.ucode\n"
   ]
  },
  {
   "cell_type": "markdown",
   "metadata": {},
   "source": [
    "The `toInt` methods ignores fractional content after (to the right of) the tick mark, "
   ]
  },
  {
   "cell_type": "code",
   "execution_count": null,
   "metadata": {},
   "outputs": [],
   "source": [
    "val oneAndAThird = MilesianNumeric(\"a' g\")\n",
    "oneAndAThird.toInt == oneAscii.toInt\n",
    "println(oneAndAThird.ucode)\n",
    "\n",
    "val expectedUCode = \"αʹγ\\\"\"\n",
    "oneAndAThird.ucode == expectedUCode"
   ]
  },
  {
   "cell_type": "markdown",
   "metadata": {},
   "source": [
    "## String conventions\n",
    "\n",
    "Because keyboard entry of Unicode characters for six, ninety and nine hundred can be difficult in some environments, the `MilesianNumeric` object includes named members for those values, both as code points and as Strings."
   ]
  },
  {
   "cell_type": "code",
   "execution_count": null,
   "metadata": {},
   "outputs": [],
   "source": [
    "val sixString = MilesianNumeric.stigmaString\n",
    "val six = MilesianNumeric(sixString)\n",
    "\n",
    "val ninetyString = MilesianNumeric.qoppaString\n",
    "val ninety = MilesianNumeric(ninetyString)\n",
    "\n",
    "val ninehundredString = MilesianNumeric.sampiString\n",
    "val ninehundred = MilesianNumeric(ninehundredString)\n",
    "\n",
    "\n",
    "println(six.ascii + \" == \" + six.toInt.get)\n",
    "println(ninety.ascii + \" == \" + six.toInt.get)\n",
    "println(ninehundred.ascii + \" == \" + ninehundred.toInt.get)\n",
    "\n",
    "six.toInt.get == 6\n",
    "ninety.toInt.get == 90\n",
    "ninehundred.toInt.get == 900\n"
   ]
  },
  {
   "cell_type": "markdown",
   "metadata": {},
   "source": [
    "## Integer values up to 999\n",
    "\n",
    "The \"Milesian\" system of notation is a place-value system with distinct characters for ones, tens and hundreds values. (See [this summary table](http://shot.holycross.edu/courses/resources/milesian.html).)"
   ]
  },
  {
   "cell_type": "code",
   "execution_count": null,
   "metadata": {},
   "outputs": [],
   "source": [
    "val ucodeSingles = Vector(\n",
    "  // ones\n",
    "  \"α\", \"β\", \"γ\", \"δ\", \"ε\", \"ϛ\",\"ζ\",\"η\", \"θ\", \n",
    "  // tens\n",
    "  \"ι\", \"κ\", \"λ\", \"μ\", \"ν\", \"ξ\", \"ο\", \"π\", \"ϙ\",\n",
    "  // hundreds\n",
    "  \"ρ\", \"σ\", \"τ\", \"υ\", \"φ\", \"χ\", \"ψ\", \"ω\", \"ϡ\"\n",
    ") \n",
    "\n",
    "val milesians = ucodeSingles.map( ch => MilesianNumeric(ch))\n",
    "val display = milesians.map (mil => Vector(mil.ucode, mil.ascii, mil.toInt.get).mkString(\" = \"))\n",
    "println(\"uni = asc = int\\n\" +  display.mkString(\"\\n\"))"
   ]
  },
  {
   "cell_type": "markdown",
   "metadata": {},
   "source": [
    "Examples of combinations encoding from ASCII:"
   ]
  },
  {
   "cell_type": "code",
   "execution_count": null,
   "metadata": {},
   "outputs": [],
   "source": [
    "val hundredOne = MilesianNumeric(\"ra\")\n",
    "val hundredTen = MilesianNumeric(\"ri\")\n",
    "val daysInYear = MilesianNumeric(\"tce\")\n",
    "\n",
    "hundredOne.toInt.get == 101\n",
    "hundredTen.toInt.get == 110\n",
    "daysInYear.toInt.get == 365"
   ]
  },
  {
   "cell_type": "markdown",
   "metadata": {},
   "source": [
    "The same using Unicode to construct the value:"
   ]
  },
  {
   "cell_type": "code",
   "execution_count": null,
   "metadata": {},
   "outputs": [],
   "source": [
    "val uHundredOne = MilesianNumeric(\"ρα\")\n",
    "val uHundredTen = MilesianNumeric(\"ρι\")\n",
    "val uDaysInYear = MilesianNumeric(\"τξε\")\n",
    "\n",
    "uHundredOne.toInt.get == 101\n",
    "uHundredTen.toInt.get == 110\n",
    "uDaysInYear.toInt.get == 365"
   ]
  }
 ],
 "metadata": {
  "kernelspec": {
   "display_name": "Scala (2.12)",
   "language": "scala",
   "name": "scala212"
  },
  "language_info": {
   "codemirror_mode": "text/x-scala",
   "file_extension": ".scala",
   "mimetype": "text/x-scala",
   "name": "scala",
   "nbconvert_exporter": "script",
   "version": "2.12.10"
  }
 },
 "nbformat": 4,
 "nbformat_minor": 4
}
