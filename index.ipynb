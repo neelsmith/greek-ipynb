{
  "cells": [
    {
      "cell_type": "markdown",
      "source": [
        "# Notebooks illustrating usage of the `greek` library\n",
        "\n",
        "The library's github repository is <https://github.com/neelsmith/greek>\n",
        "\n",
        "## The `LiteraryGreekString` class\n",
        "\n",
        "## The `MilesianNumeric` class\n",
        "\n",
        "- [Integer values written in \"Milesian\" notation](nbs/integers.ipynb)\n",
        "- Fractional values written in scientific format (minutes, seconds, thirds...)"
      ],
      "metadata": {
        "nteract": {
          "transient": {
            "deleting": false
          }
        }
      }
    }
  ],
  "metadata": {
    "kernel_info": {
      "name": "node_nteract"
    },
    "language_info": {
      "name": "javascript",
      "version": "12.0.0",
      "mimetype": "application/javascript",
      "file_extension": ".js"
    },
    "kernelspec": {
      "argv": [
        "/Applications/nteract.app/Contents/MacOS/nteract",
        "/Applications/nteract.app/Contents/Resources/app.asar/node_modules/ijavascript/lib/kernel.js",
        "{connection_file}",
        "--protocol=5.0",
        "--hide-undefined"
      ],
      "display_name": "Node.js (nteract)",
      "env": {
        "ELECTRON_RUN_AS_NODE": "1",
        "NODE_PATH": "/Applications/nteract.app/Contents/Resources/app.asar/node_modules"
      },
      "language": "javascript",
      "name": "node_nteract"
    },
    "nteract": {
      "version": "0.21.0"
    }
  },
  "nbformat": 4,
  "nbformat_minor": 0
}